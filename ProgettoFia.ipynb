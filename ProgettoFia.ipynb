{
  "cells": [
    {
      "cell_type": "markdown",
      "metadata": {
        "id": "view-in-github",
        "colab_type": "text"
      },
      "source": [
        "<a href=\"https://colab.research.google.com/github/ManuelRix-11/FlowerRecognition/blob/main/ProgettoFia.ipynb\" target=\"_parent\"><img src=\"https://colab.research.google.com/assets/colab-badge.svg\" alt=\"Open In Colab\"/></a>"
      ]
    },
    {
      "cell_type": "markdown",
      "id": "280f4d99",
      "metadata": {
        "id": "280f4d99"
      },
      "source": [
        "# Import delle Librerie 📓"
      ]
    },
    {
      "cell_type": "code",
      "execution_count": null,
      "id": "L1Te1tvE8ITp",
      "metadata": {
        "id": "L1Te1tvE8ITp"
      },
      "outputs": [],
      "source": [
        "import os\n",
        "import numpy as np\n",
        "import tensorflow as tf\n",
        "from tensorflow.keras.preprocessing.image import ImageDataGenerator\n",
        "from tensorflow.keras.models import Sequential\n",
        "from tensorflow.keras.layers import Conv2D, MaxPooling2D, Flatten, Dense, Dropout\n",
        "from sklearn.metrics import classification_report, confusion_matrix\n",
        "import matplotlib.pyplot as plt\n",
        "import seaborn as sns\n",
        "from PIL import Image"
      ]
    },
    {
      "cell_type": "markdown",
      "id": "ggr3l8ET8J30",
      "metadata": {
        "id": "ggr3l8ET8J30"
      },
      "source": [
        "## Percorsi delle cartelle e creazione dei sotto set 📁"
      ]
    },
    {
      "cell_type": "code",
      "execution_count": null,
      "id": "e0j1VXhc8MoU",
      "metadata": {
        "id": "e0j1VXhc8MoU",
        "colab": {
          "base_uri": "https://localhost:8080/",
          "height": 307
        },
        "outputId": "6c796d08-2b74-4539-ae45-7f99c1e6c6c2"
      },
      "outputs": [
        {
          "output_type": "error",
          "ename": "FileNotFoundError",
          "evalue": "[Errno 2] No such file or directory: '/content/drive/MyDrive/flowers'",
          "traceback": [
            "\u001b[0;31m---------------------------------------------------------------------------\u001b[0m",
            "\u001b[0;31mFileNotFoundError\u001b[0m                         Traceback (most recent call last)",
            "\u001b[0;32m<ipython-input-2-93d2070308ea>\u001b[0m in \u001b[0;36m<cell line: 35>\u001b[0;34m()\u001b[0m\n\u001b[1;32m     33\u001b[0m \u001b[0mworking_dir\u001b[0m \u001b[0;34m=\u001b[0m \u001b[0;34m'/content/drive/MyDrive/working/Images'\u001b[0m\u001b[0;34m\u001b[0m\u001b[0;34m\u001b[0m\u001b[0m\n\u001b[1;32m     34\u001b[0m \u001b[0;34m\u001b[0m\u001b[0m\n\u001b[0;32m---> 35\u001b[0;31m \u001b[0msplit_data\u001b[0m\u001b[0;34m(\u001b[0m\u001b[0mbase_dir\u001b[0m\u001b[0;34m,\u001b[0m \u001b[0mworking_dir\u001b[0m\u001b[0;34m)\u001b[0m\u001b[0;34m\u001b[0m\u001b[0;34m\u001b[0m\u001b[0m\n\u001b[0m",
            "\u001b[0;32m<ipython-input-2-93d2070308ea>\u001b[0m in \u001b[0;36msplit_data\u001b[0;34m(base_dir, working_dir, train_ratio, val_ratio)\u001b[0m\n\u001b[1;32m     11\u001b[0m         \u001b[0mos\u001b[0m\u001b[0;34m.\u001b[0m\u001b[0mmakedirs\u001b[0m\u001b[0;34m(\u001b[0m\u001b[0mfolder_path\u001b[0m\u001b[0;34m)\u001b[0m\u001b[0;34m\u001b[0m\u001b[0;34m\u001b[0m\u001b[0m\n\u001b[1;32m     12\u001b[0m \u001b[0;34m\u001b[0m\u001b[0m\n\u001b[0;32m---> 13\u001b[0;31m     \u001b[0;32mfor\u001b[0m \u001b[0mcategory\u001b[0m \u001b[0;32min\u001b[0m \u001b[0mos\u001b[0m\u001b[0;34m.\u001b[0m\u001b[0mlistdir\u001b[0m\u001b[0;34m(\u001b[0m\u001b[0mbase_dir\u001b[0m\u001b[0;34m)\u001b[0m\u001b[0;34m:\u001b[0m\u001b[0;34m\u001b[0m\u001b[0;34m\u001b[0m\u001b[0m\n\u001b[0m\u001b[1;32m     14\u001b[0m         \u001b[0mcategory_path\u001b[0m \u001b[0;34m=\u001b[0m \u001b[0mos\u001b[0m\u001b[0;34m.\u001b[0m\u001b[0mpath\u001b[0m\u001b[0;34m.\u001b[0m\u001b[0mjoin\u001b[0m\u001b[0;34m(\u001b[0m\u001b[0mbase_dir\u001b[0m\u001b[0;34m,\u001b[0m \u001b[0mcategory\u001b[0m\u001b[0;34m)\u001b[0m\u001b[0;34m\u001b[0m\u001b[0;34m\u001b[0m\u001b[0m\n\u001b[1;32m     15\u001b[0m         \u001b[0;32mif\u001b[0m \u001b[0mos\u001b[0m\u001b[0;34m.\u001b[0m\u001b[0mpath\u001b[0m\u001b[0;34m.\u001b[0m\u001b[0misdir\u001b[0m\u001b[0;34m(\u001b[0m\u001b[0mcategory_path\u001b[0m\u001b[0;34m)\u001b[0m\u001b[0;34m:\u001b[0m\u001b[0;34m\u001b[0m\u001b[0;34m\u001b[0m\u001b[0m\n",
            "\u001b[0;31mFileNotFoundError\u001b[0m: [Errno 2] No such file or directory: '/content/drive/MyDrive/flowers'"
          ]
        }
      ],
      "source": [
        "base_dir = '/content/drive/MyDrive/working/Images'\n",
        "train_dir = os.path.join(base_dir, 'train')\n",
        "val_dir = os.path.join(base_dir, 'val')\n",
        "test_dir = os.path.join(base_dir, 'test')\n",
        "\n",
        "def split_data(base_dir, working_dir, train_ratio=0.7, val_ratio=0.2):\n",
        "    for folder in ['train', 'val', 'test']:\n",
        "        folder_path = os.path.join(working_dir, folder)\n",
        "        if os.path.exists(folder_path):\n",
        "            shutil.rmtree(folder_path)\n",
        "        os.makedirs(folder_path)\n",
        "\n",
        "    for category in os.listdir(base_dir):\n",
        "        category_path = os.path.join(base_dir, category)\n",
        "        if os.path.isdir(category_path):\n",
        "            images = os.listdir(category_path)\n",
        "            np.random.shuffle(images)\n",
        "\n",
        "            train_split = int(len(images) * train_ratio)\n",
        "            val_split = int(len(images) * (train_ratio + val_ratio))\n",
        "\n",
        "            train_images = images[:train_split]\n",
        "            val_images = images[train_split:val_split]\n",
        "            test_images = images[val_split:]\n",
        "\n",
        "            for image_set, folder in zip([train_images, val_images, test_images], ['train', 'val', 'test']):\n",
        "                target_dir = os.path.join(working_dir, folder, category)\n",
        "                os.makedirs(target_dir, exist_ok=True)\n",
        "                for image in image_set:\n",
        "                    shutil.copy(os.path.join(category_path, image), os.path.join(target_dir, image))\n",
        "\n",
        "base_dir = '/content/drive/MyDrive/flowers'\n",
        "working_dir = '/content/drive/MyDrive/working/Images'\n",
        "\n",
        "split_data(base_dir, working_dir)"
      ]
    },
    {
      "cell_type": "markdown",
      "id": "NKxFLclI8PRC",
      "metadata": {
        "id": "NKxFLclI8PRC"
      },
      "source": [
        "## Generatori di immagini 🖼\n",
        "\n"
      ]
    },
    {
      "cell_type": "code",
      "execution_count": null,
      "id": "H6Gi_ZeJ8RjJ",
      "metadata": {
        "id": "H6Gi_ZeJ8RjJ"
      },
      "outputs": [],
      "source": [
        "train_datagen = ImageDataGenerator(rescale=1./255)\n",
        "val_datagen = ImageDataGenerator(rescale=1./255)\n",
        "test_datagen = ImageDataGenerator(rescale=1./255)\n",
        "\n",
        "train_generator = train_datagen.flow_from_directory(\n",
        "    train_dir,\n",
        "    target_size=(150, 150),\n",
        "    batch_size=32,\n",
        "    class_mode='categorical'\n",
        ")\n",
        "\n",
        "val_generator = val_datagen.flow_from_directory(\n",
        "    val_dir,\n",
        "    target_size=(150, 150),\n",
        "    batch_size=32,\n",
        "    class_mode='categorical'\n",
        ")\n",
        "\n",
        "test_generator = test_datagen.flow_from_directory(\n",
        "    test_dir,\n",
        "    target_size=(150, 150),\n",
        "    batch_size=32,\n",
        "    class_mode='categorical',\n",
        "    shuffle=False\n",
        ")"
      ]
    },
    {
      "cell_type": "markdown",
      "id": "SpTYM56c8TrA",
      "metadata": {
        "id": "SpTYM56c8TrA"
      },
      "source": [
        "## Costruzione del Modello 🏗"
      ]
    },
    {
      "cell_type": "code",
      "execution_count": null,
      "id": "MPpE-NhL8Tbm",
      "metadata": {
        "id": "MPpE-NhL8Tbm"
      },
      "outputs": [],
      "source": [
        "model = Sequential([\n",
        "    Conv2D(32, (3, 3), activation='relu', input_shape=(150, 150, 3)),\n",
        "    MaxPooling2D((2, 2)),\n",
        "    Dropout(0.5),\n",
        "    Conv2D(64, (3, 3), activation='relu'),\n",
        "    MaxPooling2D((2, 2)),\n",
        "    Dropout(0.5),\n",
        "    Conv2D(128, (3, 3), activation='relu'),\n",
        "    MaxPooling2D((2, 2)),\n",
        "    Dropout(0.5),\n",
        "    Conv2D(128, (3, 3), activation='relu'),\n",
        "    MaxPooling2D((2, 2)),\n",
        "    Dropout(0.5),\n",
        "    Flatten(),\n",
        "    Dense(512, activation='relu'),\n",
        "    Dropout(0.5),\n",
        "    Dense(len(train_generator.class_indices), activation='softmax')\n",
        "])\n",
        "\n",
        "model.compile(optimizer='adam', loss='categorical_crossentropy', metrics=['accuracy'])"
      ]
    },
    {
      "cell_type": "markdown",
      "id": "izhNsIrR8gjf",
      "metadata": {
        "id": "izhNsIrR8gjf"
      },
      "source": [
        "## Addestramento 🏃🏻‍♂️"
      ]
    },
    {
      "cell_type": "code",
      "execution_count": null,
      "id": "4GHQKtmN8h-f",
      "metadata": {
        "id": "4GHQKtmN8h-f"
      },
      "outputs": [],
      "source": [
        "history = model.fit(\n",
        "    train_generator,\n",
        "    epochs=25,\n",
        "    validation_data=val_generator\n",
        ")"
      ]
    },
    {
      "cell_type": "markdown",
      "id": "6vc017bY9JfK",
      "metadata": {
        "id": "6vc017bY9JfK"
      },
      "source": [
        "## Valutazione ✅"
      ]
    },
    {
      "cell_type": "code",
      "execution_count": null,
      "id": "8jyN0hvb9KV3",
      "metadata": {
        "id": "8jyN0hvb9KV3"
      },
      "outputs": [],
      "source": [
        "test_loss, test_acc = model.evaluate(test_generator)\n",
        "print(f\"Test accuracy: {test_acc}\")"
      ]
    },
    {
      "cell_type": "markdown",
      "id": "5gGKjTyl9OTS",
      "metadata": {
        "id": "5gGKjTyl9OTS"
      },
      "source": [
        "## Predizione"
      ]
    },
    {
      "cell_type": "code",
      "execution_count": null,
      "id": "CugDTEjU9QfM",
      "metadata": {
        "id": "CugDTEjU9QfM"
      },
      "outputs": [],
      "source": [
        "Y_pred = model.predict(test_generator)\n",
        "y_pred = np.argmax(Y_pred, axis=1)"
      ]
    },
    {
      "cell_type": "markdown",
      "id": "bsJKu6vRQ9PZ",
      "metadata": {
        "id": "bsJKu6vRQ9PZ"
      },
      "source": [
        "## Output delle predizioni"
      ]
    },
    {
      "cell_type": "code",
      "execution_count": null,
      "id": "oWc6A2DWQ_gL",
      "metadata": {
        "id": "oWc6A2DWQ_gL"
      },
      "outputs": [],
      "source": [
        "def display_predictions(generator, predictions, true_classes, class_indices, num_samples=30):\n",
        "    class_labels = list(class_indices.keys())\n",
        "    indices = np.arange(len(predictions))\n",
        "    np.random.shuffle(indices)\n",
        "    sampled_indices = indices[:num_samples]\n",
        "\n",
        "    plt.figure(figsize=(20, 15))\n",
        "    for i, idx in enumerate(sampled_indices):\n",
        "        img_path = generator.filepaths[idx]\n",
        "        img = Image.open(img_path)\n",
        "        true_label = class_labels[true_classes[idx]]\n",
        "        pred_label = class_labels[predictions[idx]]\n",
        "\n",
        "        plt.subplot(6, 5, i + 1)\n",
        "        plt.imshow(img)\n",
        "        plt.title(f\"True: {true_label}, Pred: {pred_label}\")\n",
        "        plt.axis('off')\n",
        "\n",
        "    plt.tight_layout()\n",
        "    plt.show()\n",
        "\n",
        "display_predictions(test_generator, y_pred, test_generator.classes, test_generator.class_indices)"
      ]
    },
    {
      "cell_type": "markdown",
      "id": "iF7Qa6ejQtzx",
      "metadata": {
        "id": "iF7Qa6ejQtzx"
      },
      "source": [
        "## Classification Report"
      ]
    },
    {
      "cell_type": "code",
      "execution_count": null,
      "id": "z-JZGKdIQwhA",
      "metadata": {
        "id": "z-JZGKdIQwhA"
      },
      "outputs": [],
      "source": [
        "print('Classification Report')\n",
        "target_names = list(test_generator.class_indices.keys())\n",
        "print(classification_report(test_generator.classes, y_pred, target_names=target_names))"
      ]
    },
    {
      "cell_type": "markdown",
      "id": "WlpKrFHQQ07h",
      "metadata": {
        "id": "WlpKrFHQQ07h"
      },
      "source": [
        "## Matrice di confusione"
      ]
    },
    {
      "cell_type": "code",
      "execution_count": null,
      "id": "wk7aHdbnQ2i7",
      "metadata": {
        "id": "wk7aHdbnQ2i7"
      },
      "outputs": [],
      "source": [
        "print('Confusion Matrix')\n",
        "conf_matrix = confusion_matrix(test_generator.classes, y_pred)\n",
        "plt.figure(figsize=(10, 8))\n",
        "sns.heatmap(conf_matrix, annot=True, fmt='d', cmap='Blues', xticklabels=target_names, yticklabels=target_names)\n",
        "plt.xlabel('Predicted')\n",
        "plt.ylabel('True')\n",
        "plt.show()"
      ]
    }
  ],
  "metadata": {
    "colab": {
      "provenance": [],
      "include_colab_link": true
    },
    "kaggle": {
      "accelerator": "nvidiaTeslaT4",
      "dataSources": [
        {
          "datasetId": 8782,
          "sourceId": 2431805,
          "sourceType": "datasetVersion"
        }
      ],
      "dockerImageVersionId": 30698,
      "isGpuEnabled": true,
      "isInternetEnabled": true,
      "language": "python",
      "sourceType": "notebook"
    },
    "kernelspec": {
      "display_name": "Python 3",
      "language": "python",
      "name": "python3"
    },
    "language_info": {
      "codemirror_mode": {
        "name": "ipython",
        "version": 3
      },
      "file_extension": ".py",
      "mimetype": "text/x-python",
      "name": "python",
      "nbconvert_exporter": "python",
      "pygments_lexer": "ipython3",
      "version": "3.10.13"
    },
    "papermill": {
      "default_parameters": {},
      "duration": 1273.827425,
      "end_time": "2024-05-30T19:45:31.825090",
      "environment_variables": {},
      "exception": null,
      "input_path": "__notebook__.ipynb",
      "output_path": "__notebook__.ipynb",
      "parameters": {},
      "start_time": "2024-05-30T19:24:17.997665",
      "version": "2.5.0"
    }
  },
  "nbformat": 4,
  "nbformat_minor": 5
}